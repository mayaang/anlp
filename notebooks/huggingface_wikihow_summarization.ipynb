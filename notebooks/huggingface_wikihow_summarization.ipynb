{
  "nbformat": 4,
  "nbformat_minor": 0,
  "metadata": {
    "colab": {
      "name": "huggingface_wikihow_summarization.ipynb",
      "provenance": [],
      "collapsed_sections": [],
      "toc_visible": true
    },
    "kernelspec": {
      "display_name": "Python 3",
      "language": "python",
      "name": "python3"
    },
    "language_info": {
      "codemirror_mode": {
        "name": "ipython",
        "version": 3
      },
      "file_extension": ".py",
      "mimetype": "text/x-python",
      "name": "python",
      "nbconvert_exporter": "python",
      "pygments_lexer": "ipython3",
      "version": "3.7.3"
    },
    "latex_envs": {
      "LaTeX_envs_menu_present": true,
      "autoclose": false,
      "autocomplete": true,
      "bibliofile": "biblio.bib",
      "cite_by": "apalike",
      "current_citInitial": 1,
      "eqLabelWithNumbers": true,
      "eqNumInitial": 1,
      "hotkeys": {
        "equation": "Ctrl-E",
        "itemize": "Ctrl-I"
      },
      "labels_anchors": false,
      "latex_user_defs": false,
      "report_style_numbering": false,
      "user_envs_cfg": false
    },
    "toc": {
      "base_numbering": 1,
      "nav_menu": {},
      "number_sections": true,
      "sideBar": true,
      "skip_h1_title": false,
      "title_cell": "Table of Contents",
      "title_sidebar": "Contents",
      "toc_cell": false,
      "toc_position": {},
      "toc_section_display": true,
      "toc_window_display": false
    }
  },
  "cells": [
    {
      "cell_type": "markdown",
      "metadata": {
        "id": "bavX9q4sRJ_N"
      },
      "source": [
        "# Dependencies installation and import \n",
        "\n"
      ]
    },
    {
      "cell_type": "code",
      "metadata": {
        "id": "PHvrPj86UvMA"
      },
      "source": [
        "!pip install unidecode\n",
        "!pip install pandas\n",
        "!pip install re\n",
        "!pip install pickle\n",
        "!pip install transformers\n",
        "!pip install numpy"
      ],
      "execution_count": null,
      "outputs": []
    },
    {
      "cell_type": "code",
      "metadata": {
        "id": "15HdIjeiRJ_n"
      },
      "source": [
        "import pandas as pd\n",
        "import re\n",
        "import pickle \n",
        "import numpy as np\n",
        "import os\n",
        "from transformers import pipeline\n",
        "import unidecode\n",
        "from string import ascii_letters, punctuation"
      ],
      "execution_count": null,
      "outputs": []
    },
    {
      "cell_type": "code",
      "metadata": {
        "id": "ytloDz_vSh6W"
      },
      "source": [
        "from google.colab import drive\n",
        "drive.mount('/content/drive')"
      ],
      "execution_count": null,
      "outputs": []
    },
    {
      "cell_type": "markdown",
      "metadata": {
        "id": "D8ivIRpuW0WU"
      },
      "source": [
        "# Prepare data"
      ]
    },
    {
      "cell_type": "code",
      "metadata": {
        "id": "TdybyLcARKAK"
      },
      "source": [
        "wikihow = pd.read_csv(r'/content/drive/MyDrive/summarization/wikihowAll.csv')"
      ],
      "execution_count": null,
      "outputs": []
    },
    {
      "cell_type": "code",
      "metadata": {
        "id": "2hBWlJ_bRKAN"
      },
      "source": [
        "wikihow = wikihow.astype(str)\n",
        "wikihow=wikihow[wikihow['text'].isnull()==False]\n",
        "wikihow=wikihow[wikihow['headline'].isnull()==False]\n",
        "wikihow=wikihow[wikihow['text']!='nan']\n",
        "wikihow.drop_duplicates(subset=['text'],inplace=True)\n",
        "wikihow['word_count'] = wikihow['text'].str.count(' ') + 1\n",
        "wikihow['headline_count'] = wikihow['headline'].str.count(' ') + 1"
      ],
      "execution_count": null,
      "outputs": []
    },
    {
      "cell_type": "code",
      "metadata": {
        "id": "tTDnVfBGRKAU"
      },
      "source": [
        "path = '/content/drive/MyDrive/summarization/wikihow_all.pkl'"
      ],
      "execution_count": null,
      "outputs": []
    },
    {
      "cell_type": "code",
      "metadata": {
        "id": "DUxutrjKKvsL"
      },
      "source": [
        "pd.to_pickle(wikihow, path)"
      ],
      "execution_count": null,
      "outputs": []
    },
    {
      "cell_type": "code",
      "metadata": {
        "id": "mkde0lL6KuwR"
      },
      "source": [
        "# wikihow_ = pd.read_pickle(path)"
      ],
      "execution_count": null,
      "outputs": []
    },
    {
      "cell_type": "code",
      "metadata": {
        "id": "QkBWVycBRKCK"
      },
      "source": [
        "contraction = { \n",
        "    \"ain't\": \"is not\", \n",
        "    \"aren't\": \"are not\", \n",
        "    \"can't\": \"cannot\", \n",
        "    \"'cause\": \"because\", \n",
        "    \"could've\": \"could have\", \n",
        "    \"couldn't\": \"could not\",\n",
        "    \"didn't\": \"did not\", \n",
        "    \"doesn't\": \"does not\", \n",
        "    \"don't\": \"do not\", \n",
        "    \"hadn't\": \"had not\", \n",
        "    \"hasn't\": \"has not\", \n",
        "    \"haven't\": \"have not\",\n",
        "    \"haven t\": \"have not\",\n",
        "    \"he'd\": \"he would\", \n",
        "    \"he'll\": \"he will\", \n",
        "    \"he's\": \"he is\", \n",
        "    \"how'd\": \"how did\", \n",
        "    \"how'd'y\": \"how do you\", \n",
        "    \"how'll\": \"how will\", \n",
        "    \"how's\": \"how is\",\n",
        "    \"I'd\": \"I would\", \n",
        "    \"I'd've\": \"I would have\", \n",
        "    \"I'll\": \"I will\", \n",
        "    \"I'll've\": \"I will have\", \n",
        "    \"I'm\": \"I am\", \n",
        "    \"I've\": \"I have\", \n",
        "    \"i'd\": \"i would\",\n",
        "    \"i'd've\": \"i would have\", \n",
        "    \"i'll\": \"i will\", \n",
        "    \"i'll've\": \"i will have\", \n",
        "    \"i'm\": \"i am\", \n",
        "    \"i've\": \"i have\", \n",
        "    \"isn't\": \"is not\", \n",
        "    \"it'd\": \"it would\",\n",
        "    \"it'd've\": \"it would have\", \n",
        "    \"it'll\": \"it will\", \n",
        "    \"it'll've\": \"it will have\", \n",
        "    \"it's\": \"it is\", \n",
        "    \"let's\": \"let us\", \n",
        "    \"ma'am\": \"madam\",\n",
        "    \"mayn't\": \"may not\", \n",
        "    \"might've\": \"might have\", \n",
        "    \"mightn't\": \"might not\", \n",
        "    \"mightn't've\": \"might not have\", \n",
        "    \"must've\": \"must have\",\n",
        "    \"mustn't\": \"must not\", \n",
        "    \"mustn't've\": \"must not have\", \n",
        "    \"needn't\": \"need not\", \n",
        "    \"needn't've\": \"need not have\", \n",
        "    \"o'clock\": \"of the clock\",\n",
        "    \"oughtn't\": \"ought not\", \n",
        "    \"oughtn't've\": \"ought not have\", \n",
        "    \"shan't\": \"shall not\", \n",
        "    \"sha'n't\": \"shall not\", \n",
        "    \"shan't've\": \"shall not have\",\n",
        "    \"she'd\": \"she would\", \n",
        "    \"she'd've\": \"she would have\", \n",
        "    \"she'll\": \"she will\", \n",
        "    \"she'll've\": \"she will have\", \n",
        "    \"she's\": \"she is\",\n",
        "    \"should've\": \"should have\", \n",
        "    \"shouldn't\": \"should not\", \n",
        "    \"shouldn't've\": \"should not have\", \n",
        "    \"so've\": \"so have\", \n",
        "    \"so's\": \"so as\",\n",
        "    \"this's\": \"this is\", \n",
        "    \"that'd\": \"that would\", \n",
        "    \"that'd've\": \"that would have\", \n",
        "    \"that's\": \"that is\", \n",
        "    \"there'd\": \"there would\",\n",
        "    \"there'd've\": \"there would have\", \n",
        "    \"there's\": \"there is\", \n",
        "    \"here's\": \"here is\", \n",
        "    \"they'd\": \"they would\", \n",
        "    \"they'd've\": \"they would have\",\n",
        "    \"they'll\": \"they will\", \n",
        "    \"they'll've\": \"they will have\", \n",
        "    \"they're\": \"they are\", \n",
        "    \"they've\": \"they have\", \n",
        "    \"to've\": \"to have\",\n",
        "    \"wasn't\": \"was not\", \n",
        "    \"we'd\": \"we would\", \n",
        "    \"we'd've\": \"we would have\", \n",
        "    \"we'll\": \"we will\", \n",
        "    \"we'll've\": \"we will have\", \n",
        "    \"we're\": \"we are\",\n",
        "    \"we've\": \"we have\", \n",
        "    \"weren't\": \"were not\", \n",
        "    \"what'll\": \"what will\", \n",
        "    \"what'll've\": \"what will have\", \n",
        "    \"what're\": \"what are\",\n",
        "    \"what's\": \"what is\", \n",
        "    \"what've\": \"what have\", \n",
        "    \"when's\": \"when is\", \n",
        "    \"when've\": \"when have\", \n",
        "    \"where'd\": \"where did\", \n",
        "    \"where's\": \"where is\",\n",
        "    \"where've\": \"where have\", \n",
        "    \"who'll\": \"who will\", \n",
        "    \"who'll've\": \"who will have\", \n",
        "    \"who's\": \"who is\", \n",
        "    \"who've\": \"who have\",\n",
        "    \"why's\": \"why is\", \n",
        "    \"why've\": \"why have\", \n",
        "    \"will've\": \"will have\", \n",
        "    \"won't\": \"will not\", \n",
        "    \"won't've\": \"will not have\",\n",
        "    \"would've\": \"would have\", \n",
        "    \"wouldn't\": \"would not\", \n",
        "    \"wouldn't've\": \"would not have\", \n",
        "    \"y'all\": \"you all\",\n",
        "    \"y'all'd\": \"you all would\", \n",
        "    \"y'all'd've\": \"you all would have\", \n",
        "    \"y'all're\": \"you all are\", \n",
        "    \"y'all've\": \"you all have\",\n",
        "    \"you'd\": \"you would\", \n",
        "    \"you'd've\": \"you would have\", \n",
        "    \"you'll\": \"you will\", \n",
        "    \"you'll've\": \"you will have\",\n",
        "    \"you're\": \"you are\", \n",
        "    \"you've\": \"you have\"}"
      ],
      "execution_count": null,
      "outputs": []
    },
    {
      "cell_type": "code",
      "metadata": {
        "id": "Sx8MbiYVRKCP"
      },
      "source": [
        "def clean(text):\n",
        "  \n",
        "    text = text.lower()\n",
        "    text = unidecode.unidecode(text)\n",
        "    text = text.replace('&', ' and ')\n",
        "    text = text.replace('@', ' at ')\n",
        "    text = ' '.join([contraction[t] if t in contraction else t for t in text.split(\" \")])\n",
        "    \n",
        "    punct = '|'.join('\\\\' + char for char in punctuation)\n",
        "    punct = r'['+punct+']'\n",
        "    text = re.sub(punct, ' ', text)\n",
        "    text = re.sub(r\"http\\S+\", \"\", text)\n",
        "    text = re.sub(r\"\\n\", \" \", text)\n",
        "    text = re.sub(r\"\\n\\n\", \" \", text)\n",
        "    text = re.sub(r\"\\W\", \" \", text)\n",
        "    text = re.sub(r\"'s\\b\",\"\",text)\n",
        "    text = re.sub(r\"^\\d+\\s|\\s\\d+\\s|\\s\\d+$\", \" \", text)\n",
        "\n",
        "    text = text.strip(\" \")\n",
        "    text = re.sub('\"','', text)\n",
        "    text = re.sub(r\"[^\\w\\s]\", \"\", text)\n",
        "    text = re.sub(' +',' ', text).strip() \n",
        "\n",
        "    if len(text) != 0 and text[len(text)-1].isdigit():\n",
        "        text = text[0:len(text)-1]\n",
        "    return text\n",
        "\n"
      ],
      "execution_count": null,
      "outputs": []
    },
    {
      "cell_type": "code",
      "metadata": {
        "id": "VUORQ4BeRKCU"
      },
      "source": [
        "wikihow[\"clean_title\"] = wikihow['title'].map(lambda text: clean(text))"
      ],
      "execution_count": null,
      "outputs": []
    },
    {
      "cell_type": "code",
      "metadata": {
        "id": "leP_CYhuRKCd"
      },
      "source": [
        "wikihow[\"clean_text\"] = wikihow['text'].map(lambda text: clean(text))"
      ],
      "execution_count": null,
      "outputs": []
    },
    {
      "cell_type": "code",
      "metadata": {
        "id": "7x6LBZLKahaG"
      },
      "source": [
        "wikihow[\"clean_headline\"] = wikihow['headline'].map(lambda text: clean(text))"
      ],
      "execution_count": null,
      "outputs": []
    },
    {
      "cell_type": "markdown",
      "metadata": {
        "id": "3NM2IVVk2fIc"
      },
      "source": [
        "## Load WikiHow (test)\n"
      ]
    },
    {
      "cell_type": "code",
      "metadata": {
        "id": "T4BdgaYzRKDF"
      },
      "source": [
        "# path = '/content/drive/MyDrive/summarization/wikihow_all_clean.pkl'\n",
        "# pd.to_pickle(wikihow, path)"
      ],
      "execution_count": null,
      "outputs": []
    },
    {
      "cell_type": "code",
      "metadata": {
        "id": "HXKgJ64HRKDF"
      },
      "source": [
        "# wikihow = pd.read_pickle(path)"
      ],
      "execution_count": null,
      "outputs": []
    },
    {
      "cell_type": "markdown",
      "metadata": {
        "id": "5As5F096RKDW"
      },
      "source": [
        "# Summarize short articles"
      ]
    },
    {
      "cell_type": "code",
      "metadata": {
        "id": "RSZZZyihRKDL"
      },
      "source": [
        "shorty = wikihow[\"word_count\"] < 800\n",
        "\n",
        "short_articles = wikihow[shorty].copy()"
      ],
      "execution_count": null,
      "outputs": []
    },
    {
      "cell_type": "code",
      "metadata": {
        "id": "L1SMl4pPRKDQ"
      },
      "source": [
        "path = '/content/drive/MyDrive/summarization/short_articles_clean.pkl'\n",
        "pd.to_pickle(short_articles, path)\n",
        "short_articles"
      ],
      "execution_count": null,
      "outputs": []
    },
    {
      "cell_type": "markdown",
      "metadata": {
        "id": "DWvhitTuM4A3"
      },
      "source": [
        "# Default Bart model"
      ]
    },
    {
      "cell_type": "code",
      "metadata": {
        "id": "mmxlh5K86dwn"
      },
      "source": [
        "def write_to(data, filename):\n",
        "    filehandler = open(filename, 'wb') \n",
        "    pickle.dump(data, filehandler)"
      ],
      "execution_count": null,
      "outputs": []
    },
    {
      "cell_type": "code",
      "metadata": {
        "id": "hRj06L4ZRKDk"
      },
      "source": [
        "bart_summarizer = pipeline(\n",
        "    \"summarization\"\n",
        ")"
      ],
      "execution_count": null,
      "outputs": []
    },
    {
      "cell_type": "code",
      "metadata": {
        "id": "2ULwFeqyONVU"
      },
      "source": [
        "short_articles['summary'] = \"\""
      ],
      "execution_count": null,
      "outputs": []
    },
    {
      "cell_type": "code",
      "metadata": {
        "id": "2hkZ0u0hNsZm"
      },
      "source": [
        "filename = '/content/drive/MyDrive/summarization/summaries/short_articles.pkl'\n",
        "\n",
        "for ind in short_articles['clean_text'].index:\n",
        "  s = bart_summarizer(short_articles['clean_text'][ind], max_length=150)\n",
        "  short_articles['summary'][ind] = s\n",
        "  if ind > 0 and ind % 10 == 0:\n",
        "    print('pickled')\n",
        "    pd.to_pickle(short_articles, filename)\n",
        "\n",
        "pd.to_pickle(short_articles, filename)"
      ],
      "execution_count": null,
      "outputs": []
    },
    {
      "cell_type": "markdown",
      "metadata": {
        "id": "LZ8166uyRKEA"
      },
      "source": [
        "# Summarize shorter articles, T5 model\n",
        "\n"
      ]
    },
    {
      "cell_type": "code",
      "metadata": {
        "id": "J1FFbtfZRKEA"
      },
      "source": [
        "shsh = wikihow[\"word_count\"] < 300\n",
        "\n",
        "shorter_articles = wikihow[shsh].copy()"
      ],
      "execution_count": null,
      "outputs": []
    },
    {
      "cell_type": "code",
      "metadata": {
        "id": "uXNnA1bkRKEG"
      },
      "source": [
        "t5_summarizer = pipeline(\n",
        "    \"summarization\",\n",
        "    model=\"t5-base\",\n",
        "    tokenizer=\"t5-base\",\n",
        "    framework=\"tf\"\n",
        ")"
      ],
      "execution_count": null,
      "outputs": []
    },
    {
      "cell_type": "code",
      "metadata": {
        "id": "r89caiYC492d"
      },
      "source": [
        "shorter_articles['summary'] = \"\""
      ],
      "execution_count": null,
      "outputs": []
    },
    {
      "cell_type": "code",
      "metadata": {
        "id": "zDk1qUyG1Uye"
      },
      "source": [
        "filename = '/content/drive/MyDrive/summarization/summaries/shorter_articles.pkl'\n",
        "\n",
        "for ind in shorter_articles.index:\n",
        "  text = shorter_articles['clean_text'][ind]  \n",
        "  shorter_articles['summary'][ind]=t5_summarizer(text)\n",
        "  \n",
        "  if ind > 0 and ind % 100 == 0:\n",
        "    pd.to_pickle(shorter_articles, filename)\n",
        "    print('pickled')\n",
        "\n",
        "pd.to_pickle(shorter_articles, filename)"
      ],
      "execution_count": null,
      "outputs": []
    },
    {
      "cell_type": "markdown",
      "metadata": {
        "id": "e12rwfW4O4em"
      },
      "source": [
        "\n",
        "# Evaluation"
      ]
    },
    {
      "cell_type": "markdown",
      "metadata": {
        "id": "wyPHGDvWQg4f"
      },
      "source": [
        "\n",
        "## Installation von nlg-eval, bleurt, functions"
      ]
    },
    {
      "cell_type": "code",
      "metadata": {
        "id": "m0HSsFhlRRdp"
      },
      "source": [
        "import io\n",
        "\n",
        "def write_list_to(filename, da_list):\n",
        "  with open(filename, 'w') as f:\n",
        "    for item in da_list:\n",
        "      f.write(\"%s\\n\" % item)\n",
        "\n",
        "\n",
        "def calculate_bleurt(filename):\n",
        "  with io.open(filename,'r') as f:\n",
        "    bl = f.readlines()\n",
        "\n",
        "  b = [float(i) for i in bl]\n",
        "  score = sum(b)/len(b)\n",
        "  print('score for ' + filename)\n",
        "  print(score)\n"
      ],
      "execution_count": null,
      "outputs": []
    },
    {
      "cell_type": "code",
      "metadata": {
        "id": "AyUtTL-EPJTr"
      },
      "source": [
        "!pip3 install git+https://github.com/Maluuba/nlg-eval.git@master\n"
      ],
      "execution_count": null,
      "outputs": []
    },
    {
      "cell_type": "code",
      "metadata": {
        "id": "fyzeo6ciPPyO"
      },
      "source": [
        "!nlg-eval --setup"
      ],
      "execution_count": null,
      "outputs": []
    },
    {
      "cell_type": "code",
      "metadata": {
        "id": "vNdsYZewQe6G"
      },
      "source": [
        "!git clone https://github.com/google-research/bleurt.git"
      ],
      "execution_count": null,
      "outputs": []
    },
    {
      "cell_type": "code",
      "metadata": {
        "id": "0mhdmhTlQyuH"
      },
      "source": [
        "cd bleurt/"
      ],
      "execution_count": null,
      "outputs": []
    },
    {
      "cell_type": "code",
      "metadata": {
        "id": "mjf5ePmBQ0XA"
      },
      "source": [
        "!pip3 install ."
      ],
      "execution_count": null,
      "outputs": []
    },
    {
      "cell_type": "code",
      "metadata": {
        "id": "4W0D4xsZQ4RN"
      },
      "source": [
        "!python -m unittest bleurt.score_test\n",
        "!python -m unittest bleurt.score_not_eager_test\n",
        "!python -m unittest bleurt.finetune_test"
      ],
      "execution_count": null,
      "outputs": []
    },
    {
      "cell_type": "code",
      "metadata": {
        "id": "49KkN4qkQ8my"
      },
      "source": [
        "!wget https://storage.googleapis.com/bleurt-oss/bleurt-large-512.zip ."
      ],
      "execution_count": null,
      "outputs": []
    },
    {
      "cell_type": "code",
      "metadata": {
        "id": "K4XF-v_mQ9cO"
      },
      "source": [
        "!unzip bleurt-large-512.zip"
      ],
      "execution_count": null,
      "outputs": []
    },
    {
      "cell_type": "markdown",
      "metadata": {
        "id": "oErYzGemP0d3"
      },
      "source": [
        "## Short Articles summary evaluation\n",
        "\n",
        "\n"
      ]
    },
    {
      "cell_type": "code",
      "metadata": {
        "id": "6ygWrZNBPu1M"
      },
      "source": [
        "to_eval_s = short_articles[0:10]"
      ],
      "execution_count": null,
      "outputs": []
    },
    {
      "cell_type": "code",
      "metadata": {
        "id": "oiUmVxGMPrt4"
      },
      "source": [
        "to_eval_hyp_s = [x[0].get('summary_text') for x in to_eval['summary']]\n",
        "to_eval_ref_s = to_eval['clean_headline']"
      ],
      "execution_count": null,
      "outputs": []
    },
    {
      "cell_type": "code",
      "metadata": {
        "id": "YaIqfSW2QE5W"
      },
      "source": [
        "h_filename_s = '/content/drive/MyDrive/summarization/evaluation/short_articles_hypothesis.txt'\n",
        "r_filename_s = '/content/drive/MyDrive/summarization/evaluation/short_articles_reference.txt'"
      ],
      "execution_count": null,
      "outputs": []
    },
    {
      "cell_type": "code",
      "metadata": {
        "id": "I0RFF9imQKsD"
      },
      "source": [
        "write_list_to(h_filename_s, to_eval_hyp_s)\n",
        "write_list_to(r_filename_s, to_eval_ref_s)"
      ],
      "execution_count": null,
      "outputs": []
    },
    {
      "cell_type": "code",
      "metadata": {
        "id": "wrj4_cTjQOcC"
      },
      "source": [
        "!nlg-eval --hypothesis=/content/drive/MyDrive/summarization/evaluation/short_articles_hypothesis.txt --references=/content/drive/MyDrive/summarization/evaluation/short_articles_reference.txt --no-skipthoughts --no-glove "
      ],
      "execution_count": null,
      "outputs": []
    },
    {
      "cell_type": "code",
      "metadata": {
        "id": "HnxTZEmcQ_wI"
      },
      "source": [
        "!python -m bleurt.score \\\n",
        "  -candidate_file=/content/drive/MyDrive/summarization/evaluation/short_articles_hypothesis.txt \\\n",
        "  -reference_file=/content/drive/MyDrive/summarization/evaluation/short_articles_reference.txt \\\n",
        "  -bleurt_checkpoint=/content/bleurt/bleurt-large-512\\\n",
        "  -scores_file=bleurt_scores_short_articles_summary.txt"
      ],
      "execution_count": null,
      "outputs": []
    },
    {
      "cell_type": "code",
      "metadata": {
        "id": "T_YsVvPuEhFl"
      },
      "source": [
        "calculate_bleurt('bleurt_scores_short_articles_summary.txt')"
      ],
      "execution_count": null,
      "outputs": []
    },
    {
      "cell_type": "markdown",
      "metadata": {
        "id": "3F05d9IFPA3u"
      },
      "source": [
        "## Shorter Articles summary evaluation"
      ]
    },
    {
      "cell_type": "code",
      "metadata": {
        "id": "wY1VR3JmRGSJ"
      },
      "source": [
        "to_eval = shorter_articles[0:20]"
      ],
      "execution_count": null,
      "outputs": []
    },
    {
      "cell_type": "code",
      "metadata": {
        "id": "g4X-4V4ERLDm"
      },
      "source": [
        "to_eval_hyp = [x[0].get('summary_text') for x in to_eval['summary']]\n",
        "to_eval_ref = to_eval['clean_headline']"
      ],
      "execution_count": null,
      "outputs": []
    },
    {
      "cell_type": "code",
      "metadata": {
        "id": "JSeI62_uSJk9"
      },
      "source": [
        "h_filename = '/content/drive/MyDrive/summarization/evaluation/shorter_articles_hypothesis.txt'\n",
        "r_filename = '/content/drive/MyDrive/summarization/evaluation/shorter_articles_reference.txt'"
      ],
      "execution_count": null,
      "outputs": []
    },
    {
      "cell_type": "code",
      "metadata": {
        "id": "ezp6INraS_o9"
      },
      "source": [
        "write_list_to(h_filename, to_eval_hyp)\n",
        "write_list_to(r_filename, to_eval_ref)"
      ],
      "execution_count": null,
      "outputs": []
    },
    {
      "cell_type": "code",
      "metadata": {
        "id": "5Qzaz8VrPYTd"
      },
      "source": [
        "!nlg-eval --hypothesis=/content/drive/MyDrive/summarization/evaluation/shorter_articles_hypothesis.txt --references=/content/drive/MyDrive/summarization/evaluation/shorter_articles_reference.txt --no-skipthoughts --no-glove "
      ],
      "execution_count": null,
      "outputs": []
    },
    {
      "cell_type": "code",
      "metadata": {
        "id": "k6uCcwrzRXNS"
      },
      "source": [
        "!python -m bleurt.score \\\n",
        "  -candidate_file=/content/drive/MyDrive/summarization/evaluation/shorter_articles_hypothesis.txt \\\n",
        "  -reference_file=/content/drive/MyDrive/summarization/evaluation/shorter_articles_reference.txt \\\n",
        "  -bleurt_checkpoint=/content/bleurt/bleurt-large-512\\\n",
        "  -scores_file=bleurt_scores_shorter_articles_summary.txt"
      ],
      "execution_count": null,
      "outputs": []
    },
    {
      "cell_type": "code",
      "metadata": {
        "id": "sREAJxbvEp0C"
      },
      "source": [
        "calculate_bleurt('bleurt_scores_shorter_articles_summary.txt')"
      ],
      "execution_count": null,
      "outputs": []
    },
    {
      "cell_type": "markdown",
      "metadata": {
        "id": "P8R_6OhDGZYF"
      },
      "source": [
        "# Manual evaluation TODO"
      ]
    },
    {
      "cell_type": "code",
      "metadata": {
        "id": "YEjmPzCbGflj"
      },
      "source": [
        "with open(\"/content/guardian.txt\", \"r\", encoding=\"utf-8\") as f:\n",
        "        guardian = \" \".join(f.readlines())\n",
        "        \n",
        "t5_summary = t5_summarizer(guardian)\n",
        "\n"
      ],
      "execution_count": null,
      "outputs": []
    },
    {
      "cell_type": "code",
      "metadata": {
        "id": "NaUBFh3SIWC9"
      },
      "source": [
        "bart_summary = bart_summarizer(guardian)"
      ],
      "execution_count": null,
      "outputs": []
    }
  ]
}